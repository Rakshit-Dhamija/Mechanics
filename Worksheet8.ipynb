{
 "cells": [
  {
   "cell_type": "code",
   "execution_count": 1,
   "metadata": {},
   "outputs": [],
   "source": [
    "from geom2d import Point, Line,Vector,Segment\n",
    "from geom2d.vectors import make_vector_between"
   ]
  },
  {
   "cell_type": "code",
   "execution_count": 2,
   "metadata": {},
   "outputs": [
    {
     "name": "stdout",
     "output_type": "stream",
     "text": [
      "<class 'geom2d.point.Point'>\n",
      "2.8284271247461903\n",
      "(2.0, 3.0)\n",
      "Equation of line passing through p1(1, 2) and p2(3, 4) is y = 1.0x + -1.0\n",
      "(-3.0, 3.0)\n"
     ]
    }
   ],
   "source": [
    "# q1\n",
    "p1 = Point(1, 2)\n",
    "p2 = Point(3, 4)\n",
    "print(type(p1))\n",
    "\n",
    "# Calculate the distance between the points\n",
    "distance = p1.distance_to(p2)\n",
    "print(distance)\n",
    "\n",
    "# Calculate the midpoint\n",
    "midpoint = p1._midpoint_(p2)\n",
    "print(midpoint)\n",
    "\n",
    "# Create a line passing through the points\n",
    "slope, intercept = p1.line(p2)\n",
    "print(f\"Equation of line passing through p1{p1} and p2{p2} is y = {slope}x + {intercept}\")\n",
    "\n",
    "# Check if a point lies on the line\n",
    "p3 = Point(2, 3)\n",
    "is_on_line = p3.reflection(slope,intercept)\n",
    "print(is_on_line)"
   ]
  },
  {
   "cell_type": "code",
   "execution_count": 13,
   "metadata": {},
   "outputs": [
    {
     "name": "stdout",
     "output_type": "stream",
     "text": [
      "(3, 4) with norm 5.0\n",
      "5.0\n",
      "(8, 10) with norm 12.806248474865697\n",
      "(2, 2) with norm 2.8284271247461903\n",
      "39\n",
      "0.7853981633974484\n",
      "-0.7853981633974484\n",
      "projection of vector qr over po is: 7.800000000000001\n"
     ]
    }
   ],
   "source": [
    "# q2\n",
    "qr=Vector(5,6)\n",
    "po=Vector(3,4)\n",
    "print(po)\n",
    "print(po.norm) #norm is magnitude \n",
    "\n",
    "#vector add and sub\n",
    "print(Vector.__add__(qr,po))\n",
    "print(Vector.__sub__(qr,po))\n",
    "\n",
    "#dot product of vectors \n",
    "print(Vector.dot(qr,po))\n",
    "\n",
    "#cross product of vectors\n",
    "# st=Vector.cross(qr,po)\n",
    "# print(st)\n",
    "\n",
    "#angle between two vectors \n",
    "u = Vector(1, 0)\n",
    "v = Vector(1, 1)\n",
    "print(v.angle_value_to(u))\n",
    "print(v.angle_to(u))\n",
    "\n",
    "#projection of one point on other \n",
    "print(f\"projection of vector qr over po is: {qr.projection_over(po)}\")"
   ]
  },
  {
   "cell_type": "code",
   "execution_count": 14,
   "metadata": {},
   "outputs": [
    {
     "name": "stdout",
     "output_type": "stream",
     "text": [
      "Length of the segment 2.8284271247461903\n",
      "Closest point to the segment (3.0, 4.0)\n",
      "Distance from P to the closest point to P on the segment (3.0, 4.0)\n"
     ]
    }
   ],
   "source": [
    "#q3\n",
    "S = Point(2,3)\n",
    "E = Point(4,5)\n",
    "P = Point(3,4)\n",
    "seg = Segment(S, E)\n",
    "\n",
    "print(f\"Length of the segment {seg.length}\")\n",
    "closeP = seg.closest_point_to(P)\n",
    "print(f\"Closest point to the segment {seg.closest_point_to(P)}\")\n",
    "distTo = P.distance_to(closeP)\n",
    "print(f\"Distance from P to the closest point to P on the segment {seg.closest_point_to(P)}\")"
   ]
  },
  {
   "cell_type": "code",
   "execution_count": 3,
   "metadata": {},
   "outputs": [
    {
     "name": "stdout",
     "output_type": "stream",
     "text": [
      "Line form is 'A'X + 'B'Y = 'C'\n",
      "(0, 1.5) (3.0, 0)\n",
      "(3.0, -1.5) with norm 3.3541019662496847\n",
      "(1.5, -1.2) with norm 1.9209372712298547\n",
      "Intersection Point: (-1.0000000000000004, 2.0)\n",
      "Line 1 is not perpendicular to Line 2\n"
     ]
    }
   ],
   "source": [
    "#q4\n",
    "print(\"Line form is 'A'X + 'B'Y = 'C'\")\n",
    "a1, b1, c1 = map(int, input(\"Enter Line1 a1, b1, c1\").split())\n",
    "a2, b2, c2 = map(int, input(\"Enter Line2 a2, b2, c2\").split())\n",
    "\n",
    "LP1 = Point(0, c1/b1)\n",
    "LP2 = Point(c1/a1, 0)\n",
    "LP3 = Point(0, c2/b2)\n",
    "LP4 = Point(c2/a2, 0)\n",
    "\n",
    "print(LP1 ,LP2)\n",
    "\n",
    "DVect1 = make_vector_between(LP1, LP2)\n",
    "DVect2 = make_vector_between(LP3, LP4)\n",
    "\n",
    "print(DVect1)\n",
    "print(DVect2)\n",
    "\n",
    "Line1 = Line(LP1, DVect1)\n",
    "Line2 = Line(LP3, DVect2)\n",
    "\n",
    "intersection = Line1.intersection_with(Line2)\n",
    "if intersection:\n",
    "    print(\"Intersection Point:\", intersection)\n",
    "    if DVect1.is_perpendicular_to(DVect2):\n",
    "        print(\"Line 1 is perpendicular to Line 2\")\n",
    "    else:\n",
    "        print(\"Line 1 is not perpendicular to Line 2\")\n",
    "else:\n",
    "    print(\"The lines are parallel or coincident\")"
   ]
  },
  {
   "cell_type": "code",
   "execution_count": 17,
   "metadata": {},
   "outputs": [
    {
     "name": "stdout",
     "output_type": "stream",
     "text": [
      "{'x': 1, 'y': 5}\n",
      "{'x': 24, 'y': 21}\n",
      "28.0178514522438\n",
      "(25, 26)\n",
      "(-23, -16) with norm 28.0178514522438\n",
      "False\n",
      "\n",
      "-------------------------------\n",
      "\n",
      "600\n",
      "-700\n",
      "-0.8621700546672265\n",
      "False\n",
      "False\n",
      "(-10, -20) with norm 22.360679774997898\n",
      "(100, 200) with norm 223.60679774997897\n",
      "{'u': 10, 'v': 20}\n",
      "{'u': 40, 'v': 10}\n",
      "(-14.178084396418633, 17.291093743544117) with norm 22.360679774997898\n"
     ]
    }
   ],
   "source": [
    "from geom2d.point import Point\n",
    "from geom2d.vector import Vector\n",
    "\n",
    "\n",
    "# Points \n",
    "\n",
    "p = Point(1, 5)\n",
    "q = Point(24, 21)\n",
    "\n",
    "print(p.__dict__)\n",
    "print(q.__dict__)\n",
    "\n",
    "print(p.distance_to(q))\n",
    "z = p.__add__(q)\n",
    "print(z)\n",
    "print(p.__sub__(q))\n",
    "# print(p.__mul__(q))\n",
    "print(p.__eq__(q))\n",
    "\n",
    "print(\"\\n-------------------------------\\n\")\n",
    "# Vectors\n",
    "\n",
    "v1 = Vector(10, 20)\n",
    "v2 = Vector(40, 10)\n",
    "\n",
    "print(v1.dot(v2))\n",
    "print(v1.cross(v2))\n",
    "print(v1.angle_to(v2))\n",
    "print(v1.is_parallel_to(v2))\n",
    "print(v1.is_perpendicular_to(v2))\n",
    "print(v1.opposite())\n",
    "print(v1.scaled_by(10))\n",
    "print(v1.__dict__)\n",
    "print(v2.__dict__)\n",
    "print(v1.rotated_radians(20))"
   ]
  }
 ],
 "metadata": {
  "kernelspec": {
   "display_name": "Python 3",
   "language": "python",
   "name": "python3"
  },
  "language_info": {
   "codemirror_mode": {
    "name": "ipython",
    "version": 3
   },
   "file_extension": ".py",
   "mimetype": "text/x-python",
   "name": "python",
   "nbconvert_exporter": "python",
   "pygments_lexer": "ipython3",
   "version": "3.9.0"
  }
 },
 "nbformat": 4,
 "nbformat_minor": 2
}
